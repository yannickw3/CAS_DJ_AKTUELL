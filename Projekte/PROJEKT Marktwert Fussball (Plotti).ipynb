{
 "cells": [
  {
   "cell_type": "markdown",
   "metadata": {},
   "source": [
    "## Libraries importieren"
   ]
  },
  {
   "cell_type": "code",
   "execution_count": 1,
   "metadata": {},
   "outputs": [],
   "source": [
    "# zuerst installiere ich Requests, BeautifulSoup und Pandas\n",
    "import requests\n",
    "from bs4 import BeautifulSoup\n",
    "import pandas as pd"
   ]
  },
  {
   "cell_type": "markdown",
   "metadata": {},
   "source": [
    "# Agenda\n",
    "- Beispielseite Scrapen\n",
    "- Prototyping Vereinswerte\n",
    "- Scrapen aller Vereinswerte\n",
    "- Prototyping Vereinspunkte\n",
    "- Scraping aller Vereinspunkte"
   ]
  },
  {
   "cell_type": "markdown",
   "metadata": {},
   "source": [
    "## Beispielseite Scrapen"
   ]
  },
  {
   "cell_type": "code",
   "execution_count": 2,
   "metadata": {},
   "outputs": [],
   "source": [
    "# die Seite transfermarkt.ch blockiert Anfragen, deshalb mit Barnabys Code die Blockade umgehen\n",
    "headers = {'User-Agent': 'Mozilla/5.0 (Macintosh; Intel Mac OS X 10_10_1) AppleWebKit/537.36 (KHTML, like Gecko) Chrome/39.0.2171.95 Safari/537.36'}\n",
    "url = 'https://www.transfermarkt.ch/super-league/startseite/wettbewerb/C1/plus/?saison_id=2010'\n",
    "r = requests.get(url, headers=headers)\n",
    "soup = BeautifulSoup(r.text, 'html.parser')"
   ]
  },
  {
   "cell_type": "markdown",
   "metadata": {},
   "source": [
    "## Prototyping Teamwerte"
   ]
  },
  {
   "cell_type": "code",
   "execution_count": 3,
   "metadata": {},
   "outputs": [
    {
     "data": {
      "text/plain": [
       "['FC Basel',\n",
       " 'BSC Young Boys',\n",
       " 'FC Z\\xc3\\xbcrich',\n",
       " 'FC Sion',\n",
       " 'FC St. Gallen',\n",
       " 'Grasshoppers',\n",
       " 'FC Luzern',\n",
       " 'Neuch\\xc3\\xa2tel Xamax',\n",
       " 'AC Bellinzona',\n",
       " 'FC Thun']"
      ]
     },
     "execution_count": 3,
     "metadata": {},
     "output_type": "execute_result"
    }
   ],
   "source": [
    "# ich ziehe die Vereine raus, indem ich nach allen Elementen mit folgendem Pfad suche \n",
    "vereine = []\n",
    "for verein in soup.find_all('td', {'class':'hauptlink no-border-links show-for-small show-for-pad'}):\n",
    "    vereine.append(verein.text.encode('utf-8'))\n",
    "vereine"
   ]
  },
  {
   "cell_type": "code",
   "execution_count": 4,
   "metadata": {},
   "outputs": [
    {
     "data": {
      "text/plain": [
       "[41.2, 26.6, 23.25, 18.38, 16.45, 14.2, 14.05, 12.35, 8.35, 7.95]"
      ]
     },
     "execution_count": 4,
     "metadata": {},
     "output_type": "execute_result"
    }
   ],
   "source": [
    "# ich ziehe die Marktwerte der Vereine raus, indem ich nach allen Elementen mit folgendem Pfad suche\n",
    "# die ersten beiden Werte kann ich nicht brauchen, weil es Gesamtwerte der Liga sind > erst ab 3. Element [2:]\n",
    "# ich brauche nur die Gesamtmarktwerte > jedes zweite Element überspringen [::2]\n",
    "# ich will Kommazahlen (float), keine strings > ich ersetze 'Mio €' durch nichts und das Komma durch einen Punkt\n",
    "marktwerte =[]\n",
    "for marktwert in soup.find_all('td', {'class':'rechts show-for-small show-for-pad nowrap'})[2:][::2]:\n",
    "    marktwerte.append(float(marktwert.text.encode('utf-8').replace(' Mio. €', '').replace(',', '.')))\n",
    "marktwerte"
   ]
  },
  {
   "cell_type": "code",
   "execution_count": 5,
   "metadata": {},
   "outputs": [
    {
     "data": {
      "text/html": [
       "<div>\n",
       "<style scoped>\n",
       "    .dataframe tbody tr th:only-of-type {\n",
       "        vertical-align: middle;\n",
       "    }\n",
       "\n",
       "    .dataframe tbody tr th {\n",
       "        vertical-align: top;\n",
       "    }\n",
       "\n",
       "    .dataframe thead th {\n",
       "        text-align: right;\n",
       "    }\n",
       "</style>\n",
       "<table border=\"1\" class=\"dataframe\">\n",
       "  <thead>\n",
       "    <tr style=\"text-align: right;\">\n",
       "      <th></th>\n",
       "      <th>Team</th>\n",
       "      <th>Wert</th>\n",
       "    </tr>\n",
       "  </thead>\n",
       "  <tbody>\n",
       "    <tr>\n",
       "      <th>0</th>\n",
       "      <td>FC Basel</td>\n",
       "      <td>41.20</td>\n",
       "    </tr>\n",
       "    <tr>\n",
       "      <th>1</th>\n",
       "      <td>BSC Young Boys</td>\n",
       "      <td>26.60</td>\n",
       "    </tr>\n",
       "    <tr>\n",
       "      <th>2</th>\n",
       "      <td>FC Zürich</td>\n",
       "      <td>23.25</td>\n",
       "    </tr>\n",
       "    <tr>\n",
       "      <th>3</th>\n",
       "      <td>FC Sion</td>\n",
       "      <td>18.38</td>\n",
       "    </tr>\n",
       "    <tr>\n",
       "      <th>4</th>\n",
       "      <td>FC St. Gallen</td>\n",
       "      <td>16.45</td>\n",
       "    </tr>\n",
       "    <tr>\n",
       "      <th>5</th>\n",
       "      <td>Grasshoppers</td>\n",
       "      <td>14.20</td>\n",
       "    </tr>\n",
       "    <tr>\n",
       "      <th>6</th>\n",
       "      <td>FC Luzern</td>\n",
       "      <td>14.05</td>\n",
       "    </tr>\n",
       "    <tr>\n",
       "      <th>7</th>\n",
       "      <td>Neuchâtel Xamax</td>\n",
       "      <td>12.35</td>\n",
       "    </tr>\n",
       "    <tr>\n",
       "      <th>8</th>\n",
       "      <td>AC Bellinzona</td>\n",
       "      <td>8.35</td>\n",
       "    </tr>\n",
       "    <tr>\n",
       "      <th>9</th>\n",
       "      <td>FC Thun</td>\n",
       "      <td>7.95</td>\n",
       "    </tr>\n",
       "  </tbody>\n",
       "</table>\n",
       "</div>"
      ],
      "text/plain": [
       "              Team   Wert\n",
       "0         FC Basel  41.20\n",
       "1   BSC Young Boys  26.60\n",
       "2        FC Zürich  23.25\n",
       "3          FC Sion  18.38\n",
       "4    FC St. Gallen  16.45\n",
       "5     Grasshoppers  14.20\n",
       "6        FC Luzern  14.05\n",
       "7  Neuchâtel Xamax  12.35\n",
       "8    AC Bellinzona   8.35\n",
       "9          FC Thun   7.95"
      ]
     },
     "execution_count": 5,
     "metadata": {},
     "output_type": "execute_result"
    }
   ],
   "source": [
    "# jetzt bringe ich Vereine und Marktwerte zusammen\n",
    "teamwertliste = []\n",
    "for team, wert in zip(vereine, marktwerte):\n",
    "    dictionary = {'Team': team,\n",
    "                 'Wert': wert}    \n",
    "    teamwertliste.append(dictionary)\n",
    "# ich erstelle mit Pandas ein Dataframe\n",
    "pd.DataFrame(teamwertliste)"
   ]
  },
  {
   "cell_type": "markdown",
   "metadata": {},
   "source": [
    "## Teamwerte der Letzten 8 Jahre scrapen"
   ]
  },
  {
   "cell_type": "code",
   "execution_count": 6,
   "metadata": {},
   "outputs": [
    {
     "name": "stdout",
     "output_type": "stream",
     "text": [
      "Working on url https://www.transfermarkt.ch/super-league/startseite/wettbewerb/C1/plus/?saison_id=2010\n",
      "Working on url https://www.transfermarkt.ch/super-league/startseite/wettbewerb/C1/plus/?saison_id=2011\n",
      "Working on url https://www.transfermarkt.ch/super-league/startseite/wettbewerb/C1/plus/?saison_id=2012\n",
      "Working on url https://www.transfermarkt.ch/super-league/startseite/wettbewerb/C1/plus/?saison_id=2013\n",
      "Working on url https://www.transfermarkt.ch/super-league/startseite/wettbewerb/C1/plus/?saison_id=2014\n",
      "Working on url https://www.transfermarkt.ch/super-league/startseite/wettbewerb/C1/plus/?saison_id=2015\n",
      "Working on url https://www.transfermarkt.ch/super-league/startseite/wettbewerb/C1/plus/?saison_id=2016\n",
      "Working on url https://www.transfermarkt.ch/super-league/startseite/wettbewerb/C1/plus/?saison_id=2017\n"
     ]
    },
    {
     "data": {
      "text/html": [
       "<div>\n",
       "<style scoped>\n",
       "    .dataframe tbody tr th:only-of-type {\n",
       "        vertical-align: middle;\n",
       "    }\n",
       "\n",
       "    .dataframe tbody tr th {\n",
       "        vertical-align: top;\n",
       "    }\n",
       "\n",
       "    .dataframe thead th {\n",
       "        text-align: right;\n",
       "    }\n",
       "</style>\n",
       "<table border=\"1\" class=\"dataframe\">\n",
       "  <thead>\n",
       "    <tr style=\"text-align: right;\">\n",
       "      <th></th>\n",
       "      <th>Jahr</th>\n",
       "      <th>Team</th>\n",
       "      <th>Wert</th>\n",
       "    </tr>\n",
       "  </thead>\n",
       "  <tbody>\n",
       "    <tr>\n",
       "      <th>0</th>\n",
       "      <td>2010</td>\n",
       "      <td>FC Basel</td>\n",
       "      <td>41.20</td>\n",
       "    </tr>\n",
       "    <tr>\n",
       "      <th>1</th>\n",
       "      <td>2010</td>\n",
       "      <td>BSC Young Boys</td>\n",
       "      <td>26.60</td>\n",
       "    </tr>\n",
       "    <tr>\n",
       "      <th>2</th>\n",
       "      <td>2010</td>\n",
       "      <td>FC Zürich</td>\n",
       "      <td>23.25</td>\n",
       "    </tr>\n",
       "    <tr>\n",
       "      <th>3</th>\n",
       "      <td>2010</td>\n",
       "      <td>FC Sion</td>\n",
       "      <td>18.38</td>\n",
       "    </tr>\n",
       "    <tr>\n",
       "      <th>4</th>\n",
       "      <td>2010</td>\n",
       "      <td>FC St. Gallen</td>\n",
       "      <td>16.45</td>\n",
       "    </tr>\n",
       "  </tbody>\n",
       "</table>\n",
       "</div>"
      ],
      "text/plain": [
       "   Jahr            Team   Wert\n",
       "0  2010        FC Basel  41.20\n",
       "1  2010  BSC Young Boys  26.60\n",
       "2  2010       FC Zürich  23.25\n",
       "3  2010         FC Sion  18.38\n",
       "4  2010   FC St. Gallen  16.45"
      ]
     },
     "execution_count": 6,
     "metadata": {},
     "output_type": "execute_result"
    }
   ],
   "source": [
    "# Diese Tabelle will ich nicht nur für die Saison 2017, sondern für mehrere Jahre > ich setze einen range fest\n",
    "# und passe die URL an, die ohne Jahresangabe bei allen gleich ist > id=...\n",
    "# jetzt führe ich alles zusammen (und nehme beim dictionary noch das Jahr rein):\n",
    "\n",
    "allejahre = []\n",
    "jahre = list(range(2010,2018))\n",
    "url = \"https://www.transfermarkt.ch/super-league/startseite/wettbewerb/C1/plus/?saison_id=\"\n",
    "\n",
    "for jahr in jahre:\n",
    "    url2 = (url+str(jahr))\n",
    "    print(\"Working on url %s\" % url2)\n",
    "    headers = {'User-Agent': 'Mozilla/5.0 (Macintosh; Intel Mac OS X 10_10_1) AppleWebKit/537.36 (KHTML, like Gecko) Chrome/39.0.2171.95 Safari/537.36'}\n",
    "    r = requests.get(url2, headers=headers)\n",
    "    soup = BeautifulSoup(r.text, 'html.parser')\n",
    "    vereine = soup.find_all('td', {'class':'hauptlink no-border-links show-for-small show-for-pad'})\n",
    "    marktwerte = soup.find_all('td', {'class':'rechts show-for-small show-for-pad nowrap'})\n",
    "           \n",
    "    for team, wert in zip(vereine, marktwerte[2:][::2]):\n",
    "        team = team.text.encode('utf-8')\n",
    "        wert = float(wert.text.encode('utf-8').replace(' Mio. €', '').replace(',', '.'))\n",
    "        dictionary = {'Team': team,'Wert': wert,'Jahr': jahr}\n",
    "    \n",
    "        allejahre.append(dictionary)\n",
    "# und erstelle mit Pandas eine neue Version des Dataframes mit allen Jahren\n",
    "df_werte = pd.DataFrame(allejahre)\n",
    "df_werte.head()"
   ]
  },
  {
   "cell_type": "markdown",
   "metadata": {},
   "source": [
    "## Punkte Prototyping"
   ]
  },
  {
   "cell_type": "code",
   "execution_count": 7,
   "metadata": {},
   "outputs": [
    {
     "data": {
      "text/plain": [
       "[u'\\nBSC Young Boys ',\n",
       " u'\\nFC Basel  ',\n",
       " u'\\nFC Luzern ',\n",
       " u'\\nFC Z\\xfcrich \\xa0 ',\n",
       " u'\\nFC St. Gallen ',\n",
       " u'\\nFC Sion ',\n",
       " u'\\nFC Thun ',\n",
       " u'\\nFC Lugano ',\n",
       " u'\\nGrasshoppers ',\n",
       " u'\\nLausanne-Sport ']"
      ]
     },
     "execution_count": 7,
     "metadata": {},
     "output_type": "execute_result"
    }
   ],
   "source": [
    "### Jetzt das gleich noch für die Tabelle mit den Punkten\n",
    "\n",
    "vereine_punkte = []\n",
    "for verein in soup.find_all('td', {'class':'no-border-links hauptlink'}):\n",
    "    vereine_punkte.append(verein.text)\n",
    "vereine_punkte"
   ]
  },
  {
   "cell_type": "code",
   "execution_count": 8,
   "metadata": {},
   "outputs": [
    {
     "name": "stdout",
     "output_type": "stream",
     "text": [
      "84\n",
      "69\n",
      "54\n",
      "49\n",
      "45\n",
      "42\n",
      "42\n",
      "42\n",
      "39\n",
      "35\n"
     ]
    }
   ],
   "source": [
    "# Punkte herausfinden\n",
    "alle_tabellen = soup.find_all('div', {'class':'responsive-table'})\n",
    "tabelle2 = alle_tabellen[1]\n",
    "reihen = tabelle2.find_all('tr')\n",
    "\n",
    "for reihe in reihen[1:]:\n",
    "    alle_tds = reihe.find_all('td')\n",
    "    punkte = alle_tds[-1]\n",
    "    print(punkte.text)"
   ]
  },
  {
   "cell_type": "code",
   "execution_count": 9,
   "metadata": {},
   "outputs": [
    {
     "data": {
      "text/html": [
       "<div>\n",
       "<style scoped>\n",
       "    .dataframe tbody tr th:only-of-type {\n",
       "        vertical-align: middle;\n",
       "    }\n",
       "\n",
       "    .dataframe tbody tr th {\n",
       "        vertical-align: top;\n",
       "    }\n",
       "\n",
       "    .dataframe thead th {\n",
       "        text-align: right;\n",
       "    }\n",
       "</style>\n",
       "<table border=\"1\" class=\"dataframe\">\n",
       "  <thead>\n",
       "    <tr style=\"text-align: right;\">\n",
       "      <th></th>\n",
       "      <th>Punkte</th>\n",
       "      <th>Team</th>\n",
       "    </tr>\n",
       "  </thead>\n",
       "  <tbody>\n",
       "    <tr>\n",
       "      <th>0</th>\n",
       "      <td>84</td>\n",
       "      <td>BSC Young Boys</td>\n",
       "    </tr>\n",
       "    <tr>\n",
       "      <th>1</th>\n",
       "      <td>69</td>\n",
       "      <td>FC Basel</td>\n",
       "    </tr>\n",
       "    <tr>\n",
       "      <th>2</th>\n",
       "      <td>54</td>\n",
       "      <td>FC Luzern</td>\n",
       "    </tr>\n",
       "    <tr>\n",
       "      <th>3</th>\n",
       "      <td>49</td>\n",
       "      <td>FC Zürich</td>\n",
       "    </tr>\n",
       "    <tr>\n",
       "      <th>4</th>\n",
       "      <td>45</td>\n",
       "      <td>FC St. Gallen</td>\n",
       "    </tr>\n",
       "    <tr>\n",
       "      <th>5</th>\n",
       "      <td>42</td>\n",
       "      <td>FC Sion</td>\n",
       "    </tr>\n",
       "    <tr>\n",
       "      <th>6</th>\n",
       "      <td>42</td>\n",
       "      <td>FC Thun</td>\n",
       "    </tr>\n",
       "    <tr>\n",
       "      <th>7</th>\n",
       "      <td>42</td>\n",
       "      <td>FC Lugano</td>\n",
       "    </tr>\n",
       "    <tr>\n",
       "      <th>8</th>\n",
       "      <td>39</td>\n",
       "      <td>Grasshoppers</td>\n",
       "    </tr>\n",
       "    <tr>\n",
       "      <th>9</th>\n",
       "      <td>35</td>\n",
       "      <td>Lausanne-Sport</td>\n",
       "    </tr>\n",
       "  </tbody>\n",
       "</table>\n",
       "</div>"
      ],
      "text/plain": [
       "  Punkte             Team\n",
       "0     84  BSC Young Boys \n",
       "1     69       FC Basel  \n",
       "2     54       FC Luzern \n",
       "3     49     FC Zürich   \n",
       "4     45   FC St. Gallen \n",
       "5     42         FC Sion \n",
       "6     42         FC Thun \n",
       "7     42       FC Lugano \n",
       "8     39    Grasshoppers \n",
       "9     35  Lausanne-Sport "
      ]
     },
     "execution_count": 9,
     "metadata": {},
     "output_type": "execute_result"
    }
   ],
   "source": [
    "teampunkteliste = []\n",
    "for team2, punkte in zip(vereine_punkte, reihen[1:]):\n",
    "    team2 = team2.replace(\"\\n\",\"\")\n",
    "    punkte = punkte.find_all('td')[-1].text.encode('utf-8')\n",
    "    dictionary = {'Team': team2,'Punkte': punkte}\n",
    "    \n",
    "    teampunkteliste.append(dictionary)\n",
    "\n",
    "df_teampunkteliste = pd.DataFrame(teampunkteliste)\n",
    "df_teampunkteliste"
   ]
  },
  {
   "cell_type": "markdown",
   "metadata": {},
   "source": [
    "## Teampunkte der Letzten 8 Jahre scrapen"
   ]
  },
  {
   "cell_type": "code",
   "execution_count": 10,
   "metadata": {},
   "outputs": [
    {
     "name": "stdout",
     "output_type": "stream",
     "text": [
      "Working on https://www.transfermarkt.ch/super-league/startseite/wettbewerb/C1/plus/?saison_id=2010\n",
      "Working on https://www.transfermarkt.ch/super-league/startseite/wettbewerb/C1/plus/?saison_id=2011\n",
      "Working on https://www.transfermarkt.ch/super-league/startseite/wettbewerb/C1/plus/?saison_id=2012\n",
      "Working on https://www.transfermarkt.ch/super-league/startseite/wettbewerb/C1/plus/?saison_id=2013\n",
      "Working on https://www.transfermarkt.ch/super-league/startseite/wettbewerb/C1/plus/?saison_id=2014\n",
      "Working on https://www.transfermarkt.ch/super-league/startseite/wettbewerb/C1/plus/?saison_id=2015\n",
      "Working on https://www.transfermarkt.ch/super-league/startseite/wettbewerb/C1/plus/?saison_id=2016\n",
      "Working on https://www.transfermarkt.ch/super-league/startseite/wettbewerb/C1/plus/?saison_id=2017\n"
     ]
    },
    {
     "data": {
      "text/html": [
       "<div>\n",
       "<style scoped>\n",
       "    .dataframe tbody tr th:only-of-type {\n",
       "        vertical-align: middle;\n",
       "    }\n",
       "\n",
       "    .dataframe tbody tr th {\n",
       "        vertical-align: top;\n",
       "    }\n",
       "\n",
       "    .dataframe thead th {\n",
       "        text-align: right;\n",
       "    }\n",
       "</style>\n",
       "<table border=\"1\" class=\"dataframe\">\n",
       "  <thead>\n",
       "    <tr style=\"text-align: right;\">\n",
       "      <th></th>\n",
       "      <th>Jahr</th>\n",
       "      <th>Punkte</th>\n",
       "      <th>Team</th>\n",
       "    </tr>\n",
       "  </thead>\n",
       "  <tbody>\n",
       "    <tr>\n",
       "      <th>0</th>\n",
       "      <td>2010</td>\n",
       "      <td>\\n2</td>\n",
       "      <td>Super League Barrage-Spiele (bis 11/12)</td>\n",
       "    </tr>\n",
       "    <tr>\n",
       "      <th>1</th>\n",
       "      <td>2011</td>\n",
       "      <td>\\n2</td>\n",
       "      <td>Super League Barrage-Spiele (bis 11/12)</td>\n",
       "    </tr>\n",
       "    <tr>\n",
       "      <th>2</th>\n",
       "      <td>2012</td>\n",
       "      <td>72</td>\n",
       "      <td>FC Basel</td>\n",
       "    </tr>\n",
       "    <tr>\n",
       "      <th>3</th>\n",
       "      <td>2012</td>\n",
       "      <td>69</td>\n",
       "      <td>Grasshoppers</td>\n",
       "    </tr>\n",
       "    <tr>\n",
       "      <th>4</th>\n",
       "      <td>2012</td>\n",
       "      <td>59</td>\n",
       "      <td>FC St. Gallen</td>\n",
       "    </tr>\n",
       "  </tbody>\n",
       "</table>\n",
       "</div>"
      ],
      "text/plain": [
       "   Jahr Punkte                                      Team\n",
       "0  2010   \\n2   Super League Barrage-Spiele (bis 11/12) \n",
       "1  2011   \\n2   Super League Barrage-Spiele (bis 11/12) \n",
       "2  2012     72                                FC Basel  \n",
       "3  2012     69                             Grasshoppers \n",
       "4  2012     59                            FC St. Gallen "
      ]
     },
     "execution_count": 10,
     "metadata": {},
     "output_type": "execute_result"
    }
   ],
   "source": [
    "allejahre2 = []\n",
    "jahre2 = list(range(2010,2018))\n",
    "url = \"https://www.transfermarkt.ch/super-league/startseite/wettbewerb/C1/plus/?saison_id=\"\n",
    "\n",
    "for jahr in jahre2:\n",
    "    url2 = (url+str(jahr))\n",
    "    print(\"Working on %s\" % url2)\n",
    "    headers = {'User-Agent': 'Mozilla/5.0 (Macintosh; Intel Mac OS X 10_10_1) AppleWebKit/537.36 (KHTML, like Gecko) Chrome/39.0.2171.95 Safari/537.36'}\n",
    "    r = requests.get(url2, headers=headers)\n",
    "    soup = BeautifulSoup(r.text, 'html.parser')\n",
    "    vereine2 = soup.find_all('td', {'class':'no-border-links hauptlink'})\n",
    "    reihen = soup.find_all('div', {'class':'responsive-table'})[1].find_all(\"tr\")\n",
    "\n",
    "    for team2, punkte in zip(vereine2, reihen[1:]):\n",
    "        team2 = team2.text.replace(\"\\n\",\"\")\n",
    "        punkte = punkte.find_all('td')[-1].text\n",
    "        dictionary2 = {'Team': team2,'Punkte': punkte,'Jahr': jahr}\n",
    "    \n",
    "        allejahre2.append(dictionary2)\n",
    "df_punkte = pd.DataFrame(allejahre2)\n",
    "df_punkte.head()"
   ]
  },
  {
   "cell_type": "markdown",
   "metadata": {},
   "source": [
    "# Vereinsnamen harmosisieren"
   ]
  },
  {
   "cell_type": "code",
   "execution_count": 11,
   "metadata": {},
   "outputs": [],
   "source": [
    "# in einer der beiden Tabellen Vereinsnamen harmonisieren, damit die beiden nachher zusammengeführt werden können\n",
    "# ich mache es bei der erste Tabelle (mit Marktwerten)\n",
    "\n",
    "def harm(elem):\n",
    "    if elem == 'FC Basel 1893':\n",
    "        return 'FC Basel'\n",
    "    if elem == 'Grasshopper Club Zürich':\n",
    "        return 'Grasshoppers'\n",
    "    if elem == 'FC St. Gallen 1879':\n",
    "        return 'FC St. Gallen'\n",
    "    else:\n",
    "        return elem\n"
   ]
  },
  {
   "cell_type": "code",
   "execution_count": 12,
   "metadata": {},
   "outputs": [
    {
     "name": "stderr",
     "output_type": "stream",
     "text": [
      "/Users/plotti/Library/Python/2.7/lib/python/site-packages/ipykernel_launcher.py:7: UnicodeWarning: Unicode equal comparison failed to convert both arguments to Unicode - interpreting them as being unequal\n",
      "  import sys\n"
     ]
    },
    {
     "data": {
      "text/html": [
       "<div>\n",
       "<style scoped>\n",
       "    .dataframe tbody tr th:only-of-type {\n",
       "        vertical-align: middle;\n",
       "    }\n",
       "\n",
       "    .dataframe tbody tr th {\n",
       "        vertical-align: top;\n",
       "    }\n",
       "\n",
       "    .dataframe thead th {\n",
       "        text-align: right;\n",
       "    }\n",
       "</style>\n",
       "<table border=\"1\" class=\"dataframe\">\n",
       "  <thead>\n",
       "    <tr style=\"text-align: right;\">\n",
       "      <th></th>\n",
       "      <th>Jahr</th>\n",
       "      <th>Punkte</th>\n",
       "      <th>Team</th>\n",
       "      <th>Team_renamed</th>\n",
       "    </tr>\n",
       "  </thead>\n",
       "  <tbody>\n",
       "    <tr>\n",
       "      <th>0</th>\n",
       "      <td>2010</td>\n",
       "      <td>\\n2</td>\n",
       "      <td>Super League Barrage-Spiele (bis 11/12)</td>\n",
       "      <td>Super League Barrage-Spiele (bis 11/12)</td>\n",
       "    </tr>\n",
       "    <tr>\n",
       "      <th>1</th>\n",
       "      <td>2011</td>\n",
       "      <td>\\n2</td>\n",
       "      <td>Super League Barrage-Spiele (bis 11/12)</td>\n",
       "      <td>Super League Barrage-Spiele (bis 11/12)</td>\n",
       "    </tr>\n",
       "    <tr>\n",
       "      <th>2</th>\n",
       "      <td>2012</td>\n",
       "      <td>72</td>\n",
       "      <td>FC Basel</td>\n",
       "      <td>FC Basel</td>\n",
       "    </tr>\n",
       "    <tr>\n",
       "      <th>3</th>\n",
       "      <td>2012</td>\n",
       "      <td>69</td>\n",
       "      <td>Grasshoppers</td>\n",
       "      <td>Grasshoppers</td>\n",
       "    </tr>\n",
       "    <tr>\n",
       "      <th>4</th>\n",
       "      <td>2012</td>\n",
       "      <td>59</td>\n",
       "      <td>FC St. Gallen</td>\n",
       "      <td>FC St. Gallen</td>\n",
       "    </tr>\n",
       "  </tbody>\n",
       "</table>\n",
       "</div>"
      ],
      "text/plain": [
       "   Jahr Punkte                                      Team  \\\n",
       "0  2010   \\n2   Super League Barrage-Spiele (bis 11/12)    \n",
       "1  2011   \\n2   Super League Barrage-Spiele (bis 11/12)    \n",
       "2  2012     72                                FC Basel     \n",
       "3  2012     69                             Grasshoppers    \n",
       "4  2012     59                            FC St. Gallen    \n",
       "\n",
       "                               Team_renamed  \n",
       "0  Super League Barrage-Spiele (bis 11/12)   \n",
       "1  Super League Barrage-Spiele (bis 11/12)   \n",
       "2                                FC Basel    \n",
       "3                             Grasshoppers   \n",
       "4                            FC St. Gallen   "
      ]
     },
     "execution_count": 12,
     "metadata": {},
     "output_type": "execute_result"
    }
   ],
   "source": [
    "df_punkte[\"Team_renamed\"] = df_punkte['Team'].apply(harm)\n",
    "df_punkte.head()"
   ]
  },
  {
   "cell_type": "code",
   "execution_count": 13,
   "metadata": {},
   "outputs": [
    {
     "data": {
      "text/html": [
       "<div>\n",
       "<style scoped>\n",
       "    .dataframe tbody tr th:only-of-type {\n",
       "        vertical-align: middle;\n",
       "    }\n",
       "\n",
       "    .dataframe tbody tr th {\n",
       "        vertical-align: top;\n",
       "    }\n",
       "\n",
       "    .dataframe thead th {\n",
       "        text-align: right;\n",
       "    }\n",
       "</style>\n",
       "<table border=\"1\" class=\"dataframe\">\n",
       "  <thead>\n",
       "    <tr style=\"text-align: right;\">\n",
       "      <th></th>\n",
       "      <th>Jahr</th>\n",
       "      <th>Team</th>\n",
       "      <th>Wert</th>\n",
       "      <th>Team_renamed</th>\n",
       "    </tr>\n",
       "  </thead>\n",
       "  <tbody>\n",
       "    <tr>\n",
       "      <th>0</th>\n",
       "      <td>2010</td>\n",
       "      <td>FC Basel</td>\n",
       "      <td>41.20</td>\n",
       "      <td>FC Basel</td>\n",
       "    </tr>\n",
       "    <tr>\n",
       "      <th>1</th>\n",
       "      <td>2010</td>\n",
       "      <td>BSC Young Boys</td>\n",
       "      <td>26.60</td>\n",
       "      <td>BSC Young Boys</td>\n",
       "    </tr>\n",
       "    <tr>\n",
       "      <th>2</th>\n",
       "      <td>2010</td>\n",
       "      <td>FC Zürich</td>\n",
       "      <td>23.25</td>\n",
       "      <td>FC Zürich</td>\n",
       "    </tr>\n",
       "    <tr>\n",
       "      <th>3</th>\n",
       "      <td>2010</td>\n",
       "      <td>FC Sion</td>\n",
       "      <td>18.38</td>\n",
       "      <td>FC Sion</td>\n",
       "    </tr>\n",
       "    <tr>\n",
       "      <th>4</th>\n",
       "      <td>2010</td>\n",
       "      <td>FC St. Gallen</td>\n",
       "      <td>16.45</td>\n",
       "      <td>FC St. Gallen</td>\n",
       "    </tr>\n",
       "  </tbody>\n",
       "</table>\n",
       "</div>"
      ],
      "text/plain": [
       "   Jahr            Team   Wert    Team_renamed\n",
       "0  2010        FC Basel  41.20        FC Basel\n",
       "1  2010  BSC Young Boys  26.60  BSC Young Boys\n",
       "2  2010       FC Zürich  23.25       FC Zürich\n",
       "3  2010         FC Sion  18.38         FC Sion\n",
       "4  2010   FC St. Gallen  16.45   FC St. Gallen"
      ]
     },
     "execution_count": 13,
     "metadata": {},
     "output_type": "execute_result"
    }
   ],
   "source": [
    "df_werte[\"Team_renamed\"] = df_werte['Team'].apply(harm)\n",
    "df_werte.head()"
   ]
  },
  {
   "cell_type": "markdown",
   "metadata": {},
   "source": [
    "# Beide Tabellen mergen"
   ]
  },
  {
   "cell_type": "code",
   "execution_count": 14,
   "metadata": {},
   "outputs": [],
   "source": [
    "df_werte[\"team_jahr\"] = df_werte[\"Team\"]+df_werte[\"Jahr\"].map(str)\n",
    "df_punkte[\"team_jahr\"] = df_punkte[\"Team\"]+df_punkte[\"Jahr\"].map(str)"
   ]
  },
  {
   "cell_type": "code",
   "execution_count": 15,
   "metadata": {},
   "outputs": [
    {
     "data": {
      "text/html": [
       "<div>\n",
       "<style scoped>\n",
       "    .dataframe tbody tr th:only-of-type {\n",
       "        vertical-align: middle;\n",
       "    }\n",
       "\n",
       "    .dataframe tbody tr th {\n",
       "        vertical-align: top;\n",
       "    }\n",
       "\n",
       "    .dataframe thead th {\n",
       "        text-align: right;\n",
       "    }\n",
       "</style>\n",
       "<table border=\"1\" class=\"dataframe\">\n",
       "  <thead>\n",
       "    <tr style=\"text-align: right;\">\n",
       "      <th></th>\n",
       "      <th>Jahr</th>\n",
       "      <th>Team</th>\n",
       "      <th>Wert</th>\n",
       "      <th>Team_renamed</th>\n",
       "      <th>team_jahr</th>\n",
       "    </tr>\n",
       "  </thead>\n",
       "  <tbody>\n",
       "    <tr>\n",
       "      <th>0</th>\n",
       "      <td>2010</td>\n",
       "      <td>FC Basel</td>\n",
       "      <td>41.20</td>\n",
       "      <td>FC Basel</td>\n",
       "      <td>FC Basel2010</td>\n",
       "    </tr>\n",
       "    <tr>\n",
       "      <th>1</th>\n",
       "      <td>2010</td>\n",
       "      <td>BSC Young Boys</td>\n",
       "      <td>26.60</td>\n",
       "      <td>BSC Young Boys</td>\n",
       "      <td>BSC Young Boys2010</td>\n",
       "    </tr>\n",
       "    <tr>\n",
       "      <th>2</th>\n",
       "      <td>2010</td>\n",
       "      <td>FC Zürich</td>\n",
       "      <td>23.25</td>\n",
       "      <td>FC Zürich</td>\n",
       "      <td>FC Zürich2010</td>\n",
       "    </tr>\n",
       "    <tr>\n",
       "      <th>3</th>\n",
       "      <td>2010</td>\n",
       "      <td>FC Sion</td>\n",
       "      <td>18.38</td>\n",
       "      <td>FC Sion</td>\n",
       "      <td>FC Sion2010</td>\n",
       "    </tr>\n",
       "    <tr>\n",
       "      <th>4</th>\n",
       "      <td>2010</td>\n",
       "      <td>FC St. Gallen</td>\n",
       "      <td>16.45</td>\n",
       "      <td>FC St. Gallen</td>\n",
       "      <td>FC St. Gallen2010</td>\n",
       "    </tr>\n",
       "  </tbody>\n",
       "</table>\n",
       "</div>"
      ],
      "text/plain": [
       "   Jahr            Team   Wert    Team_renamed           team_jahr\n",
       "0  2010        FC Basel  41.20        FC Basel        FC Basel2010\n",
       "1  2010  BSC Young Boys  26.60  BSC Young Boys  BSC Young Boys2010\n",
       "2  2010       FC Zürich  23.25       FC Zürich       FC Zürich2010\n",
       "3  2010         FC Sion  18.38         FC Sion         FC Sion2010\n",
       "4  2010   FC St. Gallen  16.45   FC St. Gallen   FC St. Gallen2010"
      ]
     },
     "execution_count": 15,
     "metadata": {},
     "output_type": "execute_result"
    }
   ],
   "source": [
    "df_werte.head()"
   ]
  },
  {
   "cell_type": "code",
   "execution_count": 16,
   "metadata": {},
   "outputs": [
    {
     "data": {
      "text/html": [
       "<div>\n",
       "<style scoped>\n",
       "    .dataframe tbody tr th:only-of-type {\n",
       "        vertical-align: middle;\n",
       "    }\n",
       "\n",
       "    .dataframe tbody tr th {\n",
       "        vertical-align: top;\n",
       "    }\n",
       "\n",
       "    .dataframe thead th {\n",
       "        text-align: right;\n",
       "    }\n",
       "</style>\n",
       "<table border=\"1\" class=\"dataframe\">\n",
       "  <thead>\n",
       "    <tr style=\"text-align: right;\">\n",
       "      <th></th>\n",
       "      <th>Jahr</th>\n",
       "      <th>Punkte</th>\n",
       "      <th>Team</th>\n",
       "      <th>Team_renamed</th>\n",
       "      <th>team_jahr</th>\n",
       "    </tr>\n",
       "  </thead>\n",
       "  <tbody>\n",
       "    <tr>\n",
       "      <th>0</th>\n",
       "      <td>2010</td>\n",
       "      <td>\\n2</td>\n",
       "      <td>Super League Barrage-Spiele (bis 11/12)</td>\n",
       "      <td>Super League Barrage-Spiele (bis 11/12)</td>\n",
       "      <td>Super League Barrage-Spiele (bis 11/12) 2010</td>\n",
       "    </tr>\n",
       "    <tr>\n",
       "      <th>1</th>\n",
       "      <td>2011</td>\n",
       "      <td>\\n2</td>\n",
       "      <td>Super League Barrage-Spiele (bis 11/12)</td>\n",
       "      <td>Super League Barrage-Spiele (bis 11/12)</td>\n",
       "      <td>Super League Barrage-Spiele (bis 11/12) 2011</td>\n",
       "    </tr>\n",
       "    <tr>\n",
       "      <th>2</th>\n",
       "      <td>2012</td>\n",
       "      <td>72</td>\n",
       "      <td>FC Basel</td>\n",
       "      <td>FC Basel</td>\n",
       "      <td>FC Basel  2012</td>\n",
       "    </tr>\n",
       "    <tr>\n",
       "      <th>3</th>\n",
       "      <td>2012</td>\n",
       "      <td>69</td>\n",
       "      <td>Grasshoppers</td>\n",
       "      <td>Grasshoppers</td>\n",
       "      <td>Grasshoppers 2012</td>\n",
       "    </tr>\n",
       "    <tr>\n",
       "      <th>4</th>\n",
       "      <td>2012</td>\n",
       "      <td>59</td>\n",
       "      <td>FC St. Gallen</td>\n",
       "      <td>FC St. Gallen</td>\n",
       "      <td>FC St. Gallen 2012</td>\n",
       "    </tr>\n",
       "  </tbody>\n",
       "</table>\n",
       "</div>"
      ],
      "text/plain": [
       "   Jahr Punkte                                      Team  \\\n",
       "0  2010   \\n2   Super League Barrage-Spiele (bis 11/12)    \n",
       "1  2011   \\n2   Super League Barrage-Spiele (bis 11/12)    \n",
       "2  2012     72                                FC Basel     \n",
       "3  2012     69                             Grasshoppers    \n",
       "4  2012     59                            FC St. Gallen    \n",
       "\n",
       "                               Team_renamed  \\\n",
       "0  Super League Barrage-Spiele (bis 11/12)    \n",
       "1  Super League Barrage-Spiele (bis 11/12)    \n",
       "2                                FC Basel     \n",
       "3                             Grasshoppers    \n",
       "4                            FC St. Gallen    \n",
       "\n",
       "                                      team_jahr  \n",
       "0  Super League Barrage-Spiele (bis 11/12) 2010  \n",
       "1  Super League Barrage-Spiele (bis 11/12) 2011  \n",
       "2                                FC Basel  2012  \n",
       "3                             Grasshoppers 2012  \n",
       "4                            FC St. Gallen 2012  "
      ]
     },
     "execution_count": 16,
     "metadata": {},
     "output_type": "execute_result"
    }
   ],
   "source": [
    "df_punkte.head()"
   ]
  },
  {
   "cell_type": "markdown",
   "metadata": {},
   "source": [
    "### Sieht so aus als ob wir noch bereinigen müssen, eines hat leerzeichen das andere nicht. "
   ]
  },
  {
   "cell_type": "code",
   "execution_count": 17,
   "metadata": {},
   "outputs": [
    {
     "data": {
      "text/html": [
       "<div>\n",
       "<style scoped>\n",
       "    .dataframe tbody tr th:only-of-type {\n",
       "        vertical-align: middle;\n",
       "    }\n",
       "\n",
       "    .dataframe tbody tr th {\n",
       "        vertical-align: top;\n",
       "    }\n",
       "\n",
       "    .dataframe thead th {\n",
       "        text-align: right;\n",
       "    }\n",
       "</style>\n",
       "<table border=\"1\" class=\"dataframe\">\n",
       "  <thead>\n",
       "    <tr style=\"text-align: right;\">\n",
       "      <th></th>\n",
       "      <th>Jahr</th>\n",
       "      <th>Punkte</th>\n",
       "      <th>Team</th>\n",
       "      <th>Team_renamed</th>\n",
       "      <th>team_jahr</th>\n",
       "    </tr>\n",
       "  </thead>\n",
       "  <tbody>\n",
       "    <tr>\n",
       "      <th>0</th>\n",
       "      <td>2010</td>\n",
       "      <td>\\n2</td>\n",
       "      <td>Super League Barrage-Spiele (bis 11/12)</td>\n",
       "      <td>Super League Barrage-Spiele (bis 11/12)</td>\n",
       "      <td>Super League Barrage-Spiele (bis 11/12)2010</td>\n",
       "    </tr>\n",
       "    <tr>\n",
       "      <th>1</th>\n",
       "      <td>2011</td>\n",
       "      <td>\\n2</td>\n",
       "      <td>Super League Barrage-Spiele (bis 11/12)</td>\n",
       "      <td>Super League Barrage-Spiele (bis 11/12)</td>\n",
       "      <td>Super League Barrage-Spiele (bis 11/12)2011</td>\n",
       "    </tr>\n",
       "    <tr>\n",
       "      <th>2</th>\n",
       "      <td>2012</td>\n",
       "      <td>72</td>\n",
       "      <td>FC Basel</td>\n",
       "      <td>FC Basel</td>\n",
       "      <td>FC Basel2012</td>\n",
       "    </tr>\n",
       "    <tr>\n",
       "      <th>3</th>\n",
       "      <td>2012</td>\n",
       "      <td>69</td>\n",
       "      <td>Grasshoppers</td>\n",
       "      <td>Grasshoppers</td>\n",
       "      <td>Grasshoppers2012</td>\n",
       "    </tr>\n",
       "    <tr>\n",
       "      <th>4</th>\n",
       "      <td>2012</td>\n",
       "      <td>59</td>\n",
       "      <td>FC St. Gallen</td>\n",
       "      <td>FC St. Gallen</td>\n",
       "      <td>FC St. Gallen2012</td>\n",
       "    </tr>\n",
       "  </tbody>\n",
       "</table>\n",
       "</div>"
      ],
      "text/plain": [
       "   Jahr Punkte                                     Team  \\\n",
       "0  2010   \\n2   Super League Barrage-Spiele (bis 11/12)   \n",
       "1  2011   \\n2   Super League Barrage-Spiele (bis 11/12)   \n",
       "2  2012     72                                 FC Basel   \n",
       "3  2012     69                             Grasshoppers   \n",
       "4  2012     59                            FC St. Gallen   \n",
       "\n",
       "                               Team_renamed  \\\n",
       "0  Super League Barrage-Spiele (bis 11/12)    \n",
       "1  Super League Barrage-Spiele (bis 11/12)    \n",
       "2                                FC Basel     \n",
       "3                             Grasshoppers    \n",
       "4                            FC St. Gallen    \n",
       "\n",
       "                                     team_jahr  \n",
       "0  Super League Barrage-Spiele (bis 11/12)2010  \n",
       "1  Super League Barrage-Spiele (bis 11/12)2011  \n",
       "2                                 FC Basel2012  \n",
       "3                             Grasshoppers2012  \n",
       "4                            FC St. Gallen2012  "
      ]
     },
     "execution_count": 17,
     "metadata": {},
     "output_type": "execute_result"
    }
   ],
   "source": [
    "df_punkte[\"Team\"] = df_punkte[\"Team\"].str.strip()\n",
    "df_punkte[\"team_jahr\"] = df_punkte[\"Team\"]+df_punkte[\"Jahr\"].map(str)\n",
    "df_punkte.head()"
   ]
  },
  {
   "cell_type": "code",
   "execution_count": 18,
   "metadata": {},
   "outputs": [
    {
     "name": "stderr",
     "output_type": "stream",
     "text": [
      "/usr/local/lib/python2.7/site-packages/pandas/core/reshape/merge.py:1570: UnicodeWarning: Unicode equal comparison failed to convert both arguments to Unicode - interpreting them as being unequal\n",
      "  rlab = rizer.factorize(rk)\n"
     ]
    },
    {
     "data": {
      "text/html": [
       "<div>\n",
       "<style scoped>\n",
       "    .dataframe tbody tr th:only-of-type {\n",
       "        vertical-align: middle;\n",
       "    }\n",
       "\n",
       "    .dataframe tbody tr th {\n",
       "        vertical-align: top;\n",
       "    }\n",
       "\n",
       "    .dataframe thead th {\n",
       "        text-align: right;\n",
       "    }\n",
       "</style>\n",
       "<table border=\"1\" class=\"dataframe\">\n",
       "  <thead>\n",
       "    <tr style=\"text-align: right;\">\n",
       "      <th></th>\n",
       "      <th>Jahr_x</th>\n",
       "      <th>Team_x</th>\n",
       "      <th>Wert</th>\n",
       "      <th>Team_renamed_x</th>\n",
       "      <th>team_jahr</th>\n",
       "      <th>Jahr_y</th>\n",
       "      <th>Punkte</th>\n",
       "      <th>Team_y</th>\n",
       "      <th>Team_renamed_y</th>\n",
       "    </tr>\n",
       "  </thead>\n",
       "  <tbody>\n",
       "    <tr>\n",
       "      <th>0</th>\n",
       "      <td>2012</td>\n",
       "      <td>FC Basel</td>\n",
       "      <td>39.25</td>\n",
       "      <td>FC Basel</td>\n",
       "      <td>FC Basel2012</td>\n",
       "      <td>2012</td>\n",
       "      <td>72</td>\n",
       "      <td>FC Basel</td>\n",
       "      <td>FC Basel</td>\n",
       "    </tr>\n",
       "    <tr>\n",
       "      <th>1</th>\n",
       "      <td>2012</td>\n",
       "      <td>BSC Young Boys</td>\n",
       "      <td>32.35</td>\n",
       "      <td>BSC Young Boys</td>\n",
       "      <td>BSC Young Boys2012</td>\n",
       "      <td>2012</td>\n",
       "      <td>43</td>\n",
       "      <td>BSC Young Boys</td>\n",
       "      <td>BSC Young Boys</td>\n",
       "    </tr>\n",
       "    <tr>\n",
       "      <th>2</th>\n",
       "      <td>2012</td>\n",
       "      <td>FC Sion</td>\n",
       "      <td>29.60</td>\n",
       "      <td>FC Sion</td>\n",
       "      <td>FC Sion2012</td>\n",
       "      <td>2012</td>\n",
       "      <td>48</td>\n",
       "      <td>FC Sion</td>\n",
       "      <td>FC Sion</td>\n",
       "    </tr>\n",
       "    <tr>\n",
       "      <th>3</th>\n",
       "      <td>2012</td>\n",
       "      <td>FC Luzern</td>\n",
       "      <td>18.20</td>\n",
       "      <td>FC Luzern</td>\n",
       "      <td>FC Luzern2012</td>\n",
       "      <td>2012</td>\n",
       "      <td>42</td>\n",
       "      <td>FC Luzern</td>\n",
       "      <td>FC Luzern</td>\n",
       "    </tr>\n",
       "    <tr>\n",
       "      <th>4</th>\n",
       "      <td>2012</td>\n",
       "      <td>Grasshoppers</td>\n",
       "      <td>14.15</td>\n",
       "      <td>Grasshoppers</td>\n",
       "      <td>Grasshoppers2012</td>\n",
       "      <td>2012</td>\n",
       "      <td>69</td>\n",
       "      <td>Grasshoppers</td>\n",
       "      <td>Grasshoppers</td>\n",
       "    </tr>\n",
       "  </tbody>\n",
       "</table>\n",
       "</div>"
      ],
      "text/plain": [
       "   Jahr_x          Team_x   Wert  Team_renamed_x           team_jahr  Jahr_y  \\\n",
       "0    2012        FC Basel  39.25        FC Basel        FC Basel2012    2012   \n",
       "1    2012  BSC Young Boys  32.35  BSC Young Boys  BSC Young Boys2012    2012   \n",
       "2    2012         FC Sion  29.60         FC Sion         FC Sion2012    2012   \n",
       "3    2012       FC Luzern  18.20       FC Luzern       FC Luzern2012    2012   \n",
       "4    2012    Grasshoppers  14.15    Grasshoppers    Grasshoppers2012    2012   \n",
       "\n",
       "  Punkte          Team_y   Team_renamed_y  \n",
       "0     72        FC Basel       FC Basel    \n",
       "1     43  BSC Young Boys  BSC Young Boys   \n",
       "2     48         FC Sion         FC Sion   \n",
       "3     42       FC Luzern       FC Luzern   \n",
       "4     69    Grasshoppers    Grasshoppers   "
      ]
     },
     "execution_count": 18,
     "metadata": {},
     "output_type": "execute_result"
    }
   ],
   "source": [
    "# in beiden Tabellen eine neue Kolonne erstellen, die Verein+Jahr beeinhaltet\n",
    "# anhand von dieser Kolonne können wir die beiden Tabellen zusammengeführt (mergen)\n",
    "\n",
    "df = df_werte.merge(df_punkte, on=\"team_jahr\")\n",
    "df.head()"
   ]
  },
  {
   "cell_type": "markdown",
   "metadata": {},
   "source": [
    "# Visualisieren"
   ]
  },
  {
   "cell_type": "code",
   "execution_count": 19,
   "metadata": {},
   "outputs": [
    {
     "data": {
      "text/html": [
       "<div>\n",
       "<style scoped>\n",
       "    .dataframe tbody tr th:only-of-type {\n",
       "        vertical-align: middle;\n",
       "    }\n",
       "\n",
       "    .dataframe tbody tr th {\n",
       "        vertical-align: top;\n",
       "    }\n",
       "\n",
       "    .dataframe thead th {\n",
       "        text-align: right;\n",
       "    }\n",
       "</style>\n",
       "<table border=\"1\" class=\"dataframe\">\n",
       "  <thead>\n",
       "    <tr style=\"text-align: right;\">\n",
       "      <th></th>\n",
       "      <th>Jahr</th>\n",
       "      <th>Team</th>\n",
       "      <th>Wert</th>\n",
       "      <th>Punkte</th>\n",
       "    </tr>\n",
       "  </thead>\n",
       "  <tbody>\n",
       "    <tr>\n",
       "      <th>0</th>\n",
       "      <td>2012</td>\n",
       "      <td>FC Basel</td>\n",
       "      <td>39.25</td>\n",
       "      <td>72</td>\n",
       "    </tr>\n",
       "    <tr>\n",
       "      <th>1</th>\n",
       "      <td>2012</td>\n",
       "      <td>BSC Young Boys</td>\n",
       "      <td>32.35</td>\n",
       "      <td>43</td>\n",
       "    </tr>\n",
       "    <tr>\n",
       "      <th>2</th>\n",
       "      <td>2012</td>\n",
       "      <td>FC Sion</td>\n",
       "      <td>29.60</td>\n",
       "      <td>48</td>\n",
       "    </tr>\n",
       "    <tr>\n",
       "      <th>3</th>\n",
       "      <td>2012</td>\n",
       "      <td>FC Luzern</td>\n",
       "      <td>18.20</td>\n",
       "      <td>42</td>\n",
       "    </tr>\n",
       "    <tr>\n",
       "      <th>4</th>\n",
       "      <td>2012</td>\n",
       "      <td>Grasshoppers</td>\n",
       "      <td>14.15</td>\n",
       "      <td>69</td>\n",
       "    </tr>\n",
       "  </tbody>\n",
       "</table>\n",
       "</div>"
      ],
      "text/plain": [
       "   Jahr            Team   Wert Punkte\n",
       "0  2012        FC Basel  39.25     72\n",
       "1  2012  BSC Young Boys  32.35     43\n",
       "2  2012         FC Sion  29.60     48\n",
       "3  2012       FC Luzern  18.20     42\n",
       "4  2012    Grasshoppers  14.15     69"
      ]
     },
     "execution_count": 19,
     "metadata": {},
     "output_type": "execute_result"
    }
   ],
   "source": [
    "df_result = df[[\"Jahr_x\",\"Team_x\",\"Wert\",\"Punkte\"]]\n",
    "df_result.columns = [\"Jahr\",\"Team\",\"Wert\",\"Punkte\"]\n",
    "df_result.head()"
   ]
  },
  {
   "cell_type": "code",
   "execution_count": 26,
   "metadata": {},
   "outputs": [
    {
     "data": {
      "text/plain": [
       "Jahr        int64\n",
       "Team       object\n",
       "Wert      float64\n",
       "Punkte     object\n",
       "dtype: object"
      ]
     },
     "execution_count": 26,
     "metadata": {},
     "output_type": "execute_result"
    }
   ],
   "source": [
    "df_result.dtypes"
   ]
  },
  {
   "cell_type": "markdown",
   "metadata": {},
   "source": [
    "## Types bereinigen"
   ]
  },
  {
   "cell_type": "code",
   "execution_count": 27,
   "metadata": {},
   "outputs": [
    {
     "name": "stderr",
     "output_type": "stream",
     "text": [
      "/Users/plotti/Library/Python/2.7/lib/python/site-packages/ipykernel_launcher.py:1: SettingWithCopyWarning:\n",
      "\n",
      "\n",
      "A value is trying to be set on a copy of a slice from a DataFrame.\n",
      "Try using .loc[row_indexer,col_indexer] = value instead\n",
      "\n",
      "See the caveats in the documentation: http://pandas.pydata.org/pandas-docs/stable/indexing.html#indexing-view-versus-copy\n",
      "\n"
     ]
    },
    {
     "data": {
      "text/plain": [
       "Jahr        int64\n",
       "Team       object\n",
       "Wert      float64\n",
       "Punkte    float64\n",
       "dtype: object"
      ]
     },
     "execution_count": 27,
     "metadata": {},
     "output_type": "execute_result"
    }
   ],
   "source": [
    "df_result['Punkte'] = df_result['Punkte'].astype(float)\n",
    "df_result.dtypes"
   ]
  },
  {
   "cell_type": "code",
   "execution_count": 28,
   "metadata": {},
   "outputs": [
    {
     "data": {
      "text/html": [
       "<div>\n",
       "<style scoped>\n",
       "    .dataframe tbody tr th:only-of-type {\n",
       "        vertical-align: middle;\n",
       "    }\n",
       "\n",
       "    .dataframe tbody tr th {\n",
       "        vertical-align: top;\n",
       "    }\n",
       "\n",
       "    .dataframe thead th {\n",
       "        text-align: right;\n",
       "    }\n",
       "</style>\n",
       "<table border=\"1\" class=\"dataframe\">\n",
       "  <thead>\n",
       "    <tr style=\"text-align: right;\">\n",
       "      <th></th>\n",
       "      <th>Jahr</th>\n",
       "      <th>Team</th>\n",
       "      <th>Wert</th>\n",
       "      <th>Punkte</th>\n",
       "    </tr>\n",
       "  </thead>\n",
       "  <tbody>\n",
       "    <tr>\n",
       "      <th>0</th>\n",
       "      <td>2012</td>\n",
       "      <td>FC Basel</td>\n",
       "      <td>39.25</td>\n",
       "      <td>72.0</td>\n",
       "    </tr>\n",
       "    <tr>\n",
       "      <th>1</th>\n",
       "      <td>2012</td>\n",
       "      <td>BSC Young Boys</td>\n",
       "      <td>32.35</td>\n",
       "      <td>43.0</td>\n",
       "    </tr>\n",
       "    <tr>\n",
       "      <th>2</th>\n",
       "      <td>2012</td>\n",
       "      <td>FC Sion</td>\n",
       "      <td>29.60</td>\n",
       "      <td>48.0</td>\n",
       "    </tr>\n",
       "    <tr>\n",
       "      <th>3</th>\n",
       "      <td>2012</td>\n",
       "      <td>FC Luzern</td>\n",
       "      <td>18.20</td>\n",
       "      <td>42.0</td>\n",
       "    </tr>\n",
       "    <tr>\n",
       "      <th>4</th>\n",
       "      <td>2012</td>\n",
       "      <td>Grasshoppers</td>\n",
       "      <td>14.15</td>\n",
       "      <td>69.0</td>\n",
       "    </tr>\n",
       "  </tbody>\n",
       "</table>\n",
       "</div>"
      ],
      "text/plain": [
       "   Jahr            Team   Wert  Punkte\n",
       "0  2012        FC Basel  39.25    72.0\n",
       "1  2012  BSC Young Boys  32.35    43.0\n",
       "2  2012         FC Sion  29.60    48.0\n",
       "3  2012       FC Luzern  18.20    42.0\n",
       "4  2012    Grasshoppers  14.15    69.0"
      ]
     },
     "execution_count": 28,
     "metadata": {},
     "output_type": "execute_result"
    }
   ],
   "source": [
    "df_result.head()"
   ]
  },
  {
   "cell_type": "markdown",
   "metadata": {},
   "source": [
    "## Scatterplot"
   ]
  },
  {
   "cell_type": "code",
   "execution_count": 1,
   "metadata": {},
   "outputs": [
    {
     "ename": "ModuleNotFoundError",
     "evalue": "No module named 'plotly'",
     "output_type": "error",
     "traceback": [
      "\u001b[0;31m---------------------------------------------------------------------------\u001b[0m",
      "\u001b[0;31mModuleNotFoundError\u001b[0m                       Traceback (most recent call last)",
      "\u001b[0;32m<ipython-input-1-40515bc6141b>\u001b[0m in \u001b[0;36m<module>\u001b[0;34m()\u001b[0m\n\u001b[0;32m----> 1\u001b[0;31m \u001b[0;32mimport\u001b[0m \u001b[0mplotly\u001b[0m\u001b[0;34m.\u001b[0m\u001b[0moffline\u001b[0m \u001b[0;32mas\u001b[0m \u001b[0mpy\u001b[0m\u001b[0;34m\u001b[0m\u001b[0m\n\u001b[0m\u001b[1;32m      2\u001b[0m \u001b[0;32mimport\u001b[0m \u001b[0mplotly\u001b[0m\u001b[0;34m.\u001b[0m\u001b[0mgraph_objs\u001b[0m \u001b[0;32mas\u001b[0m \u001b[0mgo\u001b[0m\u001b[0;34m\u001b[0m\u001b[0m\n\u001b[1;32m      3\u001b[0m \u001b[0mpy\u001b[0m\u001b[0;34m.\u001b[0m\u001b[0minit_notebook_mode\u001b[0m\u001b[0;34m(\u001b[0m\u001b[0;34m)\u001b[0m\u001b[0;34m\u001b[0m\u001b[0m\n\u001b[1;32m      4\u001b[0m \u001b[0;34m\u001b[0m\u001b[0m\n\u001b[1;32m      5\u001b[0m data = [\n",
      "\u001b[0;31mModuleNotFoundError\u001b[0m: No module named 'plotly'"
     ]
    }
   ],
   "source": [
    "import plotly.offline as py\n",
    "import plotly.graph_objs as go\n",
    "py.init_notebook_mode()\n",
    "\n",
    "data = [\n",
    "    go.Scatter(\n",
    "        x=list(df_result[\"Punkte\"]),\n",
    "        y=list(df_result[\"Wert\"]),\n",
    "        mode='markers',\n",
    "        text=list(df_result[\"Team\"])\n",
    "    )\n",
    "]\n",
    "layout = go.Layout(\n",
    "    title='Wert in Mio. vs Punkte'\n",
    ")\n",
    "fig = go.Figure(data=data, layout=layout)\n",
    "py.iplot(fig, filename='hover-chart-basic')"
   ]
  },
  {
   "cell_type": "markdown",
   "metadata": {},
   "source": [
    "### Mit Regression"
   ]
  },
  {
   "cell_type": "code",
   "execution_count": 30,
   "metadata": {},
   "outputs": [
    {
     "data": {
      "image/png": "[encoded data removed]",
      "text/plain": [
       "<matplotlib.figure.Figure at 0x109da87d0>"
      ]
     },
     "metadata": {},
     "output_type": "display_data"
    }
   ],
   "source": [
    "import seaborn as sns\n",
    "sns.lmplot(x=\"Punkte\", y=\"Wert\", data=df_result);"
   ]
  },
  {
   "cell_type": "markdown",
   "metadata": {},
   "source": [
    "## Mit regressionsgerade pro club"
   ]
  },
  {
   "cell_type": "code",
   "execution_count": 31,
   "metadata": {},
   "outputs": [
    {
     "data": {
      "image/png": "[encoded data removed]",
      "text/plain": [
       "<matplotlib.figure.Figure at 0x122394c50>"
      ]
     },
     "metadata": {},
     "output_type": "display_data"
    }
   ],
   "source": [
    "sns.lmplot(x=\"Punkte\", y=\"Wert\", hue=\"Team\", data=df_result);"
   ]
  },
  {
   "cell_type": "markdown",
   "metadata": {},
   "source": [
    "- sind etwas viele :) \n",
    "- nehmen wir einfach 2"
   ]
  },
  {
   "cell_type": "code",
   "execution_count": 33,
   "metadata": {},
   "outputs": [
    {
     "data": {
      "image/png": "[encoded data removed]",
      "text/plain": [
       "<matplotlib.figure.Figure at 0x1221a3cd0>"
      ]
     },
     "metadata": {},
     "output_type": "display_data"
    }
   ],
   "source": [
    "tmp = df_result[df_result[\"Team\"].isin([\"FC Basel\", \"FC Lugano\"])]\n",
    "sns.lmplot(x=\"Punkte\", y=\"Wert\", hue=\"Team\", data=tmp);"
   ]
  },
  {
   "cell_type": "markdown",
   "metadata": {},
   "source": [
    "# Oder alle nebeneinander"
   ]
  },
  {
   "cell_type": "code",
   "execution_count": 34,
   "metadata": {},
   "outputs": [
    {
     "data": {
      "image/png": "[encoded data removed]",
      "text/plain": [
       "<matplotlib.figure.Figure at 0x1223056d0>"
      ]
     },
     "metadata": {},
     "output_type": "display_data"
    }
   ],
   "source": [
    "sns.lmplot(x=\"Punkte\", y=\"Wert\", col=\"Team\", data=df_result, col_wrap=3, height=3);"
   ]
  },
  {
   "cell_type": "markdown",
   "metadata": {},
   "source": [
    "# Viel Spaß Yannick!"
   ]
  }
 ],
 "metadata": {
  "kernelspec": {
   "display_name": "Python 3",
   "language": "python",
   "name": "python3"
  },
  "language_info": {
   "codemirror_mode": {
    "name": "ipython",
    "version": 3
   },
   "file_extension": ".py",
   "mimetype": "text/x-python",
   "name": "python",
   "nbconvert_exporter": "python",
   "pygments_lexer": "ipython3",
   "version": "3.7.0"
  }
 },
 "nbformat": 4,
 "nbformat_minor": 2
}
